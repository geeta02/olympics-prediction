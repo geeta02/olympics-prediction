{
 "cells": [
  {
   "cell_type": "code",
   "execution_count": 62,
   "id": "1ba846dc-1032-4c12-a25e-778348d39fe3",
   "metadata": {
    "id": "1ba846dc-1032-4c12-a25e-778348d39fe3"
   },
   "outputs": [],
   "source": [
    "import pandas as pd\n",
    "import numpy as np\n",
    "from sklearn.model_selection import train_test_split, cross_val_score, KFold\n",
    "from sklearn.linear_model import ElasticNetCV\n",
    "from sklearn.metrics import mean_squared_error, r2_score\n",
    "from sklearn.preprocessing import RobustScaler\n",
    "import matplotlib.pyplot as plt"
   ]
  },
  {
   "cell_type": "code",
   "execution_count": 63,
   "id": "0222f46a-633c-4049-8d36-2b4618954975",
   "metadata": {
    "id": "0222f46a-633c-4049-8d36-2b4618954975",
    "outputId": "785885ad-3bee-4a23-ca3d-2a1835729b29"
   },
   "outputs": [
    {
     "name": "stdout",
     "output_type": "stream",
     "text": [
      "<class 'pandas.core.frame.DataFrame'>\n",
      "RangeIndex: 420 entries, 0 to 419\n",
      "Data columns (total 30 columns):\n",
      " #   Column                             Non-Null Count  Dtype  \n",
      "---  ------                             --------------  -----  \n",
      " 0   country                            420 non-null    object \n",
      " 1   updated_country                    420 non-null    object \n",
      " 2   Country Code (ISO 3166-1 alpha-3)  420 non-null    object \n",
      " 3   Year                               420 non-null    int64  \n",
      " 4   gold                               420 non-null    int64  \n",
      " 5   silver                             420 non-null    int64  \n",
      " 6   bronze                             420 non-null    int64  \n",
      " 7   total                              420 non-null    int64  \n",
      " 8   medal_sum                          420 non-null    int64  \n",
      " 9   check                              420 non-null    bool   \n",
      " 10  GDP                                420 non-null    float64\n",
      " 11  HDI                                420 non-null    float64\n",
      " 12  LE                                 420 non-null    float64\n",
      " 13  EYS                                420 non-null    float64\n",
      " 14  MYS                                420 non-null    float64\n",
      " 15  GNIPC                              420 non-null    float64\n",
      " 16  MMR                                420 non-null    float64\n",
      " 17  PHDI                               420 non-null    float64\n",
      " 18  CO2_PROD                           420 non-null    float64\n",
      " 19  BMI_underweight                    420 non-null    float64\n",
      " 20  BMI_obesity                        420 non-null    float64\n",
      " 21  BMI_morbid_obesity                 420 non-null    float64\n",
      " 22  Mean_Height                        420 non-null    float64\n",
      " 23  Diabetes_in_18+                    420 non-null    float64\n",
      " 24  Diabetes_treated_in_30+            420 non-null    float64\n",
      " 25  non-HDL_cholesterol                420 non-null    float64\n",
      " 26  HDL_cholesterol                    420 non-null    float64\n",
      " 27  Raised_blood_pressure              420 non-null    float64\n",
      " 28  Hypertension                       420 non-null    float64\n",
      " 29  cluster                            420 non-null    int64  \n",
      "dtypes: bool(1), float64(19), int64(7), object(3)\n",
      "memory usage: 95.7+ KB\n"
     ]
    }
   ],
   "source": [
    "df = pd.read_csv('final_dataset_clusters-2.csv')\n",
    "df.info()"
   ]
  },
  {
   "cell_type": "code",
   "execution_count": 64,
   "id": "f7ff2fc0-58bc-46c8-97ac-31c74caee3f5",
   "metadata": {
    "id": "f7ff2fc0-58bc-46c8-97ac-31c74caee3f5",
    "outputId": "9d795a83-0a0f-400f-a021-e3232d5b9927",
    "scrolled": true
   },
   "outputs": [
    {
     "data": {
      "text/html": [
       "<div>\n",
       "<style scoped>\n",
       "    .dataframe tbody tr th:only-of-type {\n",
       "        vertical-align: middle;\n",
       "    }\n",
       "\n",
       "    .dataframe tbody tr th {\n",
       "        vertical-align: top;\n",
       "    }\n",
       "\n",
       "    .dataframe thead th {\n",
       "        text-align: right;\n",
       "    }\n",
       "</style>\n",
       "<table border=\"1\" class=\"dataframe\">\n",
       "  <thead>\n",
       "    <tr style=\"text-align: right;\">\n",
       "      <th></th>\n",
       "      <th>country</th>\n",
       "      <th>updated_country</th>\n",
       "      <th>Country Code (ISO 3166-1 alpha-3)</th>\n",
       "      <th>Year</th>\n",
       "      <th>gold</th>\n",
       "      <th>silver</th>\n",
       "      <th>bronze</th>\n",
       "      <th>total</th>\n",
       "      <th>medal_sum</th>\n",
       "      <th>check</th>\n",
       "      <th>...</th>\n",
       "      <th>BMI_obesity</th>\n",
       "      <th>BMI_morbid_obesity</th>\n",
       "      <th>Mean_Height</th>\n",
       "      <th>Diabetes_in_18+</th>\n",
       "      <th>Diabetes_treated_in_30+</th>\n",
       "      <th>non-HDL_cholesterol</th>\n",
       "      <th>HDL_cholesterol</th>\n",
       "      <th>Raised_blood_pressure</th>\n",
       "      <th>Hypertension</th>\n",
       "      <th>cluster</th>\n",
       "    </tr>\n",
       "  </thead>\n",
       "  <tbody>\n",
       "    <tr>\n",
       "      <th>0</th>\n",
       "      <td>Afghanistan</td>\n",
       "      <td>Afghanistan</td>\n",
       "      <td>AFG</td>\n",
       "      <td>2000</td>\n",
       "      <td>0</td>\n",
       "      <td>0</td>\n",
       "      <td>0</td>\n",
       "      <td>0</td>\n",
       "      <td>0</td>\n",
       "      <td>True</td>\n",
       "      <td>...</td>\n",
       "      <td>0.037869</td>\n",
       "      <td>0.002605</td>\n",
       "      <td>159.842420</td>\n",
       "      <td>0.124577</td>\n",
       "      <td>0.227280</td>\n",
       "      <td>3.129567</td>\n",
       "      <td>1.128193</td>\n",
       "      <td>0.285826</td>\n",
       "      <td>0.360907</td>\n",
       "      <td>1</td>\n",
       "    </tr>\n",
       "    <tr>\n",
       "      <th>1</th>\n",
       "      <td>Afghanistan</td>\n",
       "      <td>Afghanistan</td>\n",
       "      <td>AFG</td>\n",
       "      <td>2004</td>\n",
       "      <td>0</td>\n",
       "      <td>0</td>\n",
       "      <td>0</td>\n",
       "      <td>0</td>\n",
       "      <td>0</td>\n",
       "      <td>True</td>\n",
       "      <td>...</td>\n",
       "      <td>0.053626</td>\n",
       "      <td>0.003623</td>\n",
       "      <td>160.101298</td>\n",
       "      <td>0.139517</td>\n",
       "      <td>0.230020</td>\n",
       "      <td>3.140379</td>\n",
       "      <td>1.120109</td>\n",
       "      <td>0.294444</td>\n",
       "      <td>0.367908</td>\n",
       "      <td>1</td>\n",
       "    </tr>\n",
       "    <tr>\n",
       "      <th>2</th>\n",
       "      <td>Afghanistan</td>\n",
       "      <td>Afghanistan</td>\n",
       "      <td>AFG</td>\n",
       "      <td>2008</td>\n",
       "      <td>0</td>\n",
       "      <td>0</td>\n",
       "      <td>1</td>\n",
       "      <td>1</td>\n",
       "      <td>1</td>\n",
       "      <td>True</td>\n",
       "      <td>...</td>\n",
       "      <td>0.072227</td>\n",
       "      <td>0.004871</td>\n",
       "      <td>160.345587</td>\n",
       "      <td>0.156097</td>\n",
       "      <td>0.231910</td>\n",
       "      <td>3.139214</td>\n",
       "      <td>1.110600</td>\n",
       "      <td>0.299683</td>\n",
       "      <td>0.375714</td>\n",
       "      <td>1</td>\n",
       "    </tr>\n",
       "    <tr>\n",
       "      <th>3</th>\n",
       "      <td>Afghanistan</td>\n",
       "      <td>Afghanistan</td>\n",
       "      <td>AFG</td>\n",
       "      <td>2012</td>\n",
       "      <td>0</td>\n",
       "      <td>0</td>\n",
       "      <td>1</td>\n",
       "      <td>1</td>\n",
       "      <td>1</td>\n",
       "      <td>True</td>\n",
       "      <td>...</td>\n",
       "      <td>0.095673</td>\n",
       "      <td>0.006511</td>\n",
       "      <td>160.547954</td>\n",
       "      <td>0.175056</td>\n",
       "      <td>0.233189</td>\n",
       "      <td>3.127356</td>\n",
       "      <td>1.098825</td>\n",
       "      <td>0.302909</td>\n",
       "      <td>0.383675</td>\n",
       "      <td>1</td>\n",
       "    </tr>\n",
       "    <tr>\n",
       "      <th>4</th>\n",
       "      <td>Algeria</td>\n",
       "      <td>Algeria</td>\n",
       "      <td>DZA</td>\n",
       "      <td>2000</td>\n",
       "      <td>1</td>\n",
       "      <td>1</td>\n",
       "      <td>3</td>\n",
       "      <td>5</td>\n",
       "      <td>5</td>\n",
       "      <td>True</td>\n",
       "      <td>...</td>\n",
       "      <td>0.131282</td>\n",
       "      <td>0.006170</td>\n",
       "      <td>164.568663</td>\n",
       "      <td>0.120538</td>\n",
       "      <td>0.384386</td>\n",
       "      <td>3.656587</td>\n",
       "      <td>1.040695</td>\n",
       "      <td>0.303167</td>\n",
       "      <td>0.375078</td>\n",
       "      <td>1</td>\n",
       "    </tr>\n",
       "  </tbody>\n",
       "</table>\n",
       "<p>5 rows × 30 columns</p>\n",
       "</div>"
      ],
      "text/plain": [
       "       country updated_country Country Code (ISO 3166-1 alpha-3)  Year  gold  \\\n",
       "0  Afghanistan     Afghanistan                               AFG  2000     0   \n",
       "1  Afghanistan     Afghanistan                               AFG  2004     0   \n",
       "2  Afghanistan     Afghanistan                               AFG  2008     0   \n",
       "3  Afghanistan     Afghanistan                               AFG  2012     0   \n",
       "4      Algeria         Algeria                               DZA  2000     1   \n",
       "\n",
       "   silver  bronze  total  medal_sum  check  ...  BMI_obesity  \\\n",
       "0       0       0      0          0   True  ...     0.037869   \n",
       "1       0       0      0          0   True  ...     0.053626   \n",
       "2       0       1      1          1   True  ...     0.072227   \n",
       "3       0       1      1          1   True  ...     0.095673   \n",
       "4       1       3      5          5   True  ...     0.131282   \n",
       "\n",
       "   BMI_morbid_obesity  Mean_Height  Diabetes_in_18+  Diabetes_treated_in_30+  \\\n",
       "0            0.002605   159.842420         0.124577                 0.227280   \n",
       "1            0.003623   160.101298         0.139517                 0.230020   \n",
       "2            0.004871   160.345587         0.156097                 0.231910   \n",
       "3            0.006511   160.547954         0.175056                 0.233189   \n",
       "4            0.006170   164.568663         0.120538                 0.384386   \n",
       "\n",
       "   non-HDL_cholesterol  HDL_cholesterol  Raised_blood_pressure  Hypertension  \\\n",
       "0             3.129567         1.128193               0.285826      0.360907   \n",
       "1             3.140379         1.120109               0.294444      0.367908   \n",
       "2             3.139214         1.110600               0.299683      0.375714   \n",
       "3             3.127356         1.098825               0.302909      0.383675   \n",
       "4             3.656587         1.040695               0.303167      0.375078   \n",
       "\n",
       "   cluster  \n",
       "0        1  \n",
       "1        1  \n",
       "2        1  \n",
       "3        1  \n",
       "4        1  \n",
       "\n",
       "[5 rows x 30 columns]"
      ]
     },
     "execution_count": 64,
     "metadata": {},
     "output_type": "execute_result"
    }
   ],
   "source": [
    "df.head()"
   ]
  },
  {
   "cell_type": "code",
   "execution_count": 65,
   "id": "da35204c-03d3-4a2a-b0e7-02f273361334",
   "metadata": {
    "id": "da35204c-03d3-4a2a-b0e7-02f273361334",
    "outputId": "a6b1f3f9-a260-4aa7-a2e8-eee50246f2e4"
   },
   "outputs": [
    {
     "data": {
      "text/plain": [
       "((336, 24), (84, 24))"
      ]
     },
     "execution_count": 65,
     "metadata": {},
     "output_type": "execute_result"
    }
   ],
   "source": [
    "X_train, X_test, y_train, y_test = train_test_split(X, y, test_size = 0.2, random_state = 42)\n",
    "X_train.shape, X_test.shape"
   ]
  },
  {
   "cell_type": "code",
   "execution_count": 66,
   "id": "82474178-0bf1-4844-a2de-681a97fa9a9a",
   "metadata": {
    "id": "82474178-0bf1-4844-a2de-681a97fa9a9a",
    "outputId": "e1706157-65f1-48a7-daa6-ce1fc1181908"
   },
   "outputs": [],
   "source": [
    "df['weighted_score'] = (df['gold'] * 3) + (df['silver'] * 2) + (df['bronze'] * 1)\n",
    "df_numeric = df.drop(columns=[\"country\", \"updated_country\", \"Country Code (ISO 3166-1 alpha-3)\",\"gold\",\"silver\",\"bronze\"])\n",
    "\n",
    "X = df_numeric.drop(columns = 'weighted_score')\n",
    "y = df_numeric['weighted_score']\n",
    "\n",
    "scaler = RobustScaler()\n",
    "X_train_scaled = pd.DataFrame(scaler.fit_transform(X_train), columns=X_train.columns)\n",
    "X_test_scaled = pd.DataFrame(scaler.transform(X_test), columns=X_test.columns)"
   ]
  },
  {
   "cell_type": "code",
   "execution_count": 67,
   "id": "0ffd46fe-0574-4c78-8ab9-b9f1f32866b4",
   "metadata": {
    "scrolled": true
   },
   "outputs": [
    {
     "name": "stdout",
     "output_type": "stream",
     "text": [
      "Optimal alpha: 0.04291934260128776\n",
      "Number of non-zero coefficients: 22\n",
      "RMSE: 13.137922918090222\n",
      "R²: 0.9804079989212029\n"
     ]
    }
   ],
   "source": [
    "alphas = np.logspace(-3, 1, 50)\n",
    "elastic_net = ElasticNetCV(l1_ratio=0.5, alphas=alphas, cv=5, random_state=42)\n",
    "elastic_net.fit(X_train_scaled, y_train)\n",
    "\n",
    "print(f\"Optimal alpha: {elastic_net.alpha_}\")\n",
    "print(f\"Number of non-zero coefficients: {np.sum(elastic_net.coef_ != 0)}\")\n",
    "\n",
    "y_pred = elastic_net.predict(X_test_scaled)\n",
    "rmse = np.sqrt(mean_squared_error(y_test, y_pred))\n",
    "r2 = r2_score(y_test, y_pred)\n",
    "\n",
    "print(f\"RMSE: {rmse}\")\n",
    "print(f\"R²: {r2}\")\n"
   ]
  },
  {
   "cell_type": "code",
   "execution_count": 68,
   "id": "4285e837-38d7-4b27-9f20-7dbfa256d4ac",
   "metadata": {
    "id": "4285e837-38d7-4b27-9f20-7dbfa256d4ac",
    "scrolled": true
   },
   "outputs": [],
   "source": [
    "y_train_pred = elastic_net.predict(X_train)"
   ]
  },
  {
   "cell_type": "code",
   "execution_count": 69,
   "id": "c257e7e9-4205-43bc-92cc-129d30ba20be",
   "metadata": {
    "id": "c257e7e9-4205-43bc-92cc-129d30ba20be",
    "outputId": "87468161-aa4a-41d4-a28e-8b623d6d4ed5"
   },
   "outputs": [
    {
     "name": "stdout",
     "output_type": "stream",
     "text": [
      "RMSE: 24908.215975609226\n",
      "R2: -93158.79420654276\n"
     ]
    }
   ],
   "source": [
    "train_rmse = np.sqrt(mean_squared_error(y_train, y_train_pred))\n",
    "train_r2 = r2_score(y_train, y_train_pred)\n",
    "print(f\"RMSE: {train_rmse}\")\n",
    "print(f\"R2: {train_r2}\")"
   ]
  },
  {
   "cell_type": "code",
   "execution_count": 70,
   "id": "a85c891c-d2c0-4a88-a2ba-e69b0b76c1ea",
   "metadata": {
    "id": "a85c891c-d2c0-4a88-a2ba-e69b0b76c1ea"
   },
   "outputs": [],
   "source": [
    "y_pred = elastic_net.predict(X_test)"
   ]
  },
  {
   "cell_type": "code",
   "execution_count": 71,
   "id": "0fb0a0a1-252b-46a1-a897-0acf6b3d1104",
   "metadata": {
    "id": "0fb0a0a1-252b-46a1-a897-0acf6b3d1104",
    "outputId": "09d6225a-b87c-4ff4-b846-13ed7a46d8e1"
   },
   "outputs": [
    {
     "name": "stdout",
     "output_type": "stream",
     "text": [
      "RMSE: 23089.194688145795\n",
      "R2: -60511.200831970644\n"
     ]
    }
   ],
   "source": [
    "rmse = np.sqrt(mean_squared_error(y_test, y_pred))\n",
    "r2 = r2_score(y_test, y_pred)\n",
    "print(f\"RMSE: {rmse}\") \n",
    "print(f\"R2: {r2}\") "
   ]
  },
  {
   "cell_type": "code",
   "execution_count": 72,
   "id": "2f3cd05b-3001-4af4-afd1-da23fd7afe60",
   "metadata": {
    "id": "2f3cd05b-3001-4af4-afd1-da23fd7afe60",
    "outputId": "65bae6c1-af47-45d3-b051-b215a1e98a68"
   },
   "outputs": [
    {
     "name": "stdout",
     "output_type": "stream",
     "text": [
      "0      0\n",
      "1      0\n",
      "2      1\n",
      "3      1\n",
      "4      8\n",
      "      ..\n",
      "415    0\n",
      "416    0\n",
      "417    6\n",
      "418    9\n",
      "419    0\n",
      "Name: weighted_score, Length: 420, dtype: int64\n",
      "Mean R²: 0.9804088183955202\n",
      "Mean RMSE: 9.815819881827952\n"
     ]
    }
   ],
   "source": [
    "print(y)\n",
    "\n",
    "kf = KFold(n_splits=10, shuffle=True, random_state=42)\n",
    "\n",
    "def evaluate_model(X, y, model, kf):\n",
    "    r2_scores = []\n",
    "    rmse_scores = []\n",
    "\n",
    "    for train_index, test_index in kf.split(X):  \n",
    "        \n",
    "        X_train, X_test = X.iloc[train_index], X.iloc[test_index]\n",
    "        y_train, y_test = y.iloc[train_index], y.iloc[test_index]\n",
    "        model.fit(X_train, y_train)\n",
    "        y_pred = model.predict(X_test)\n",
    "        r2 = r2_score(y_test, y_pred)\n",
    "        rmse = np.sqrt(mean_squared_error(y_test, y_pred))\n",
    "        r2_scores.append(r2)\n",
    "        rmse_scores.append(rmse)\n",
    "\n",
    "    return np.mean(r2_scores), np.mean(rmse_scores) \n",
    "\n",
    "mean_r2, mean_rmse = evaluate_model(X, y, elastic_net, kf)\n",
    "print(f\"Mean R²: {mean_r2}\")\n",
    "print(f\"Mean RMSE: {mean_rmse}\")\n"
   ]
  },
  {
   "cell_type": "code",
   "execution_count": null,
   "id": "5269cd0e-ff30-4676-9cf0-19746878f13c",
   "metadata": {},
   "outputs": [],
   "source": []
  }
 ],
 "metadata": {
  "colab": {
   "provenance": []
  },
  "kernelspec": {
   "display_name": "Python [conda env:base] *",
   "language": "python",
   "name": "conda-base-py"
  },
  "language_info": {
   "codemirror_mode": {
    "name": "ipython",
    "version": 3
   },
   "file_extension": ".py",
   "mimetype": "text/x-python",
   "name": "python",
   "nbconvert_exporter": "python",
   "pygments_lexer": "ipython3",
   "version": "3.12.7"
  }
 },
 "nbformat": 4,
 "nbformat_minor": 5
}
