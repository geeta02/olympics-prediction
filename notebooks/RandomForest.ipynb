{
 "cells": [
  {
   "cell_type": "markdown",
   "id": "3df87b28-e356-474c-ada7-69ad8957b5dd",
   "metadata": {},
   "source": [
    "## Random Forest Regressor"
   ]
  },
  {
   "cell_type": "code",
   "execution_count": 3,
   "id": "1ba846dc-1032-4c12-a25e-778348d39fe3",
   "metadata": {},
   "outputs": [],
   "source": [
    "import pandas as pd\n",
    "import numpy as np\n",
    "from sklearn.model_selection import train_test_split\n",
    "from sklearn.ensemble import RandomForestRegressor\n",
    "from sklearn.metrics import mean_squared_error, r2_score\n",
    "from sklearn.preprocessing import StandardScaler, RobustScaler, MinMaxScaler\n",
    "from sklearn.model_selection import cross_val_score, KFold\n",
    "import matplotlib.pyplot as plt"
   ]
  },
  {
   "cell_type": "code",
   "execution_count": 4,
   "id": "0222f46a-633c-4049-8d36-2b4618954975",
   "metadata": {},
   "outputs": [
    {
     "name": "stdout",
     "output_type": "stream",
     "text": [
      "<class 'pandas.core.frame.DataFrame'>\n",
      "RangeIndex: 420 entries, 0 to 419\n",
      "Data columns (total 30 columns):\n",
      " #   Column                             Non-Null Count  Dtype  \n",
      "---  ------                             --------------  -----  \n",
      " 0   country                            420 non-null    object \n",
      " 1   updated_country                    420 non-null    object \n",
      " 2   Country Code (ISO 3166-1 alpha-3)  420 non-null    object \n",
      " 3   Year                               420 non-null    int64  \n",
      " 4   gold                               420 non-null    int64  \n",
      " 5   silver                             420 non-null    int64  \n",
      " 6   bronze                             420 non-null    int64  \n",
      " 7   total                              420 non-null    int64  \n",
      " 8   medal_sum                          420 non-null    int64  \n",
      " 9   check                              420 non-null    bool   \n",
      " 10  GDP                                420 non-null    float64\n",
      " 11  HDI                                420 non-null    float64\n",
      " 12  LE                                 420 non-null    float64\n",
      " 13  EYS                                420 non-null    float64\n",
      " 14  MYS                                420 non-null    float64\n",
      " 15  GNIPC                              420 non-null    float64\n",
      " 16  MMR                                420 non-null    float64\n",
      " 17  PHDI                               420 non-null    float64\n",
      " 18  CO2_PROD                           420 non-null    float64\n",
      " 19  BMI_underweight                    420 non-null    float64\n",
      " 20  BMI_obesity                        420 non-null    float64\n",
      " 21  BMI_morbid_obesity                 420 non-null    float64\n",
      " 22  Mean_Height                        420 non-null    float64\n",
      " 23  Diabetes_in_18+                    420 non-null    float64\n",
      " 24  Diabetes_treated_in_30+            420 non-null    float64\n",
      " 25  non-HDL_cholesterol                420 non-null    float64\n",
      " 26  HDL_cholesterol                    420 non-null    float64\n",
      " 27  Raised_blood_pressure              420 non-null    float64\n",
      " 28  Hypertension                       420 non-null    float64\n",
      " 29  cluster                            420 non-null    int64  \n",
      "dtypes: bool(1), float64(19), int64(7), object(3)\n",
      "memory usage: 95.7+ KB\n"
     ]
    }
   ],
   "source": [
    "df = pd.read_csv('final_dataset_clusters-2.csv')\n",
    "df.info()"
   ]
  },
  {
   "cell_type": "code",
   "execution_count": 5,
   "id": "f7ff2fc0-58bc-46c8-97ac-31c74caee3f5",
   "metadata": {
    "scrolled": true
   },
   "outputs": [
    {
     "data": {
      "text/html": [
       "<div>\n",
       "<style scoped>\n",
       "    .dataframe tbody tr th:only-of-type {\n",
       "        vertical-align: middle;\n",
       "    }\n",
       "\n",
       "    .dataframe tbody tr th {\n",
       "        vertical-align: top;\n",
       "    }\n",
       "\n",
       "    .dataframe thead th {\n",
       "        text-align: right;\n",
       "    }\n",
       "</style>\n",
       "<table border=\"1\" class=\"dataframe\">\n",
       "  <thead>\n",
       "    <tr style=\"text-align: right;\">\n",
       "      <th></th>\n",
       "      <th>country</th>\n",
       "      <th>updated_country</th>\n",
       "      <th>Country Code (ISO 3166-1 alpha-3)</th>\n",
       "      <th>Year</th>\n",
       "      <th>gold</th>\n",
       "      <th>silver</th>\n",
       "      <th>bronze</th>\n",
       "      <th>total</th>\n",
       "      <th>medal_sum</th>\n",
       "      <th>check</th>\n",
       "      <th>...</th>\n",
       "      <th>BMI_obesity</th>\n",
       "      <th>BMI_morbid_obesity</th>\n",
       "      <th>Mean_Height</th>\n",
       "      <th>Diabetes_in_18+</th>\n",
       "      <th>Diabetes_treated_in_30+</th>\n",
       "      <th>non-HDL_cholesterol</th>\n",
       "      <th>HDL_cholesterol</th>\n",
       "      <th>Raised_blood_pressure</th>\n",
       "      <th>Hypertension</th>\n",
       "      <th>cluster</th>\n",
       "    </tr>\n",
       "  </thead>\n",
       "  <tbody>\n",
       "    <tr>\n",
       "      <th>0</th>\n",
       "      <td>Afghanistan</td>\n",
       "      <td>Afghanistan</td>\n",
       "      <td>AFG</td>\n",
       "      <td>2000</td>\n",
       "      <td>0</td>\n",
       "      <td>0</td>\n",
       "      <td>0</td>\n",
       "      <td>0</td>\n",
       "      <td>0</td>\n",
       "      <td>True</td>\n",
       "      <td>...</td>\n",
       "      <td>0.037869</td>\n",
       "      <td>0.002605</td>\n",
       "      <td>159.842420</td>\n",
       "      <td>0.124577</td>\n",
       "      <td>0.227280</td>\n",
       "      <td>3.129567</td>\n",
       "      <td>1.128193</td>\n",
       "      <td>0.285826</td>\n",
       "      <td>0.360907</td>\n",
       "      <td>1</td>\n",
       "    </tr>\n",
       "    <tr>\n",
       "      <th>1</th>\n",
       "      <td>Afghanistan</td>\n",
       "      <td>Afghanistan</td>\n",
       "      <td>AFG</td>\n",
       "      <td>2004</td>\n",
       "      <td>0</td>\n",
       "      <td>0</td>\n",
       "      <td>0</td>\n",
       "      <td>0</td>\n",
       "      <td>0</td>\n",
       "      <td>True</td>\n",
       "      <td>...</td>\n",
       "      <td>0.053626</td>\n",
       "      <td>0.003623</td>\n",
       "      <td>160.101298</td>\n",
       "      <td>0.139517</td>\n",
       "      <td>0.230020</td>\n",
       "      <td>3.140379</td>\n",
       "      <td>1.120109</td>\n",
       "      <td>0.294444</td>\n",
       "      <td>0.367908</td>\n",
       "      <td>1</td>\n",
       "    </tr>\n",
       "    <tr>\n",
       "      <th>2</th>\n",
       "      <td>Afghanistan</td>\n",
       "      <td>Afghanistan</td>\n",
       "      <td>AFG</td>\n",
       "      <td>2008</td>\n",
       "      <td>0</td>\n",
       "      <td>0</td>\n",
       "      <td>1</td>\n",
       "      <td>1</td>\n",
       "      <td>1</td>\n",
       "      <td>True</td>\n",
       "      <td>...</td>\n",
       "      <td>0.072227</td>\n",
       "      <td>0.004871</td>\n",
       "      <td>160.345587</td>\n",
       "      <td>0.156097</td>\n",
       "      <td>0.231910</td>\n",
       "      <td>3.139214</td>\n",
       "      <td>1.110600</td>\n",
       "      <td>0.299683</td>\n",
       "      <td>0.375714</td>\n",
       "      <td>1</td>\n",
       "    </tr>\n",
       "    <tr>\n",
       "      <th>3</th>\n",
       "      <td>Afghanistan</td>\n",
       "      <td>Afghanistan</td>\n",
       "      <td>AFG</td>\n",
       "      <td>2012</td>\n",
       "      <td>0</td>\n",
       "      <td>0</td>\n",
       "      <td>1</td>\n",
       "      <td>1</td>\n",
       "      <td>1</td>\n",
       "      <td>True</td>\n",
       "      <td>...</td>\n",
       "      <td>0.095673</td>\n",
       "      <td>0.006511</td>\n",
       "      <td>160.547954</td>\n",
       "      <td>0.175056</td>\n",
       "      <td>0.233189</td>\n",
       "      <td>3.127356</td>\n",
       "      <td>1.098825</td>\n",
       "      <td>0.302909</td>\n",
       "      <td>0.383675</td>\n",
       "      <td>1</td>\n",
       "    </tr>\n",
       "    <tr>\n",
       "      <th>4</th>\n",
       "      <td>Algeria</td>\n",
       "      <td>Algeria</td>\n",
       "      <td>DZA</td>\n",
       "      <td>2000</td>\n",
       "      <td>1</td>\n",
       "      <td>1</td>\n",
       "      <td>3</td>\n",
       "      <td>5</td>\n",
       "      <td>5</td>\n",
       "      <td>True</td>\n",
       "      <td>...</td>\n",
       "      <td>0.131282</td>\n",
       "      <td>0.006170</td>\n",
       "      <td>164.568663</td>\n",
       "      <td>0.120538</td>\n",
       "      <td>0.384386</td>\n",
       "      <td>3.656587</td>\n",
       "      <td>1.040695</td>\n",
       "      <td>0.303167</td>\n",
       "      <td>0.375078</td>\n",
       "      <td>1</td>\n",
       "    </tr>\n",
       "  </tbody>\n",
       "</table>\n",
       "<p>5 rows × 30 columns</p>\n",
       "</div>"
      ],
      "text/plain": [
       "       country updated_country Country Code (ISO 3166-1 alpha-3)  Year  gold  \\\n",
       "0  Afghanistan     Afghanistan                               AFG  2000     0   \n",
       "1  Afghanistan     Afghanistan                               AFG  2004     0   \n",
       "2  Afghanistan     Afghanistan                               AFG  2008     0   \n",
       "3  Afghanistan     Afghanistan                               AFG  2012     0   \n",
       "4      Algeria         Algeria                               DZA  2000     1   \n",
       "\n",
       "   silver  bronze  total  medal_sum  check  ...  BMI_obesity  \\\n",
       "0       0       0      0          0   True  ...     0.037869   \n",
       "1       0       0      0          0   True  ...     0.053626   \n",
       "2       0       1      1          1   True  ...     0.072227   \n",
       "3       0       1      1          1   True  ...     0.095673   \n",
       "4       1       3      5          5   True  ...     0.131282   \n",
       "\n",
       "   BMI_morbid_obesity  Mean_Height  Diabetes_in_18+  Diabetes_treated_in_30+  \\\n",
       "0            0.002605   159.842420         0.124577                 0.227280   \n",
       "1            0.003623   160.101298         0.139517                 0.230020   \n",
       "2            0.004871   160.345587         0.156097                 0.231910   \n",
       "3            0.006511   160.547954         0.175056                 0.233189   \n",
       "4            0.006170   164.568663         0.120538                 0.384386   \n",
       "\n",
       "   non-HDL_cholesterol  HDL_cholesterol  Raised_blood_pressure  Hypertension  \\\n",
       "0             3.129567         1.128193               0.285826      0.360907   \n",
       "1             3.140379         1.120109               0.294444      0.367908   \n",
       "2             3.139214         1.110600               0.299683      0.375714   \n",
       "3             3.127356         1.098825               0.302909      0.383675   \n",
       "4             3.656587         1.040695               0.303167      0.375078   \n",
       "\n",
       "   cluster  \n",
       "0        1  \n",
       "1        1  \n",
       "2        1  \n",
       "3        1  \n",
       "4        1  \n",
       "\n",
       "[5 rows x 30 columns]"
      ]
     },
     "execution_count": 5,
     "metadata": {},
     "output_type": "execute_result"
    }
   ],
   "source": [
    "df.head()"
   ]
  },
  {
   "cell_type": "code",
   "execution_count": 21,
   "id": "82474178-0bf1-4844-a2de-681a97fa9a9a",
   "metadata": {},
   "outputs": [
    {
     "data": {
      "text/plain": [
       "((420, 21), (420,))"
      ]
     },
     "execution_count": 21,
     "metadata": {},
     "output_type": "execute_result"
    }
   ],
   "source": [
    "# target feature = weighted medal scores\n",
    "\n",
    "df['weighted_score'] = (df['gold'] * 3) + (df['silver'] * 2) + (df['bronze'] * 1)\n",
    "df_numeric = df.drop(columns=[\"country\", \"updated_country\", \"Country Code (ISO 3166-1 alpha-3)\",\"check\"])\n",
    "X = df_numeric.drop(columns = ['weighted_score','gold','silver','bronze','total','medal_sum'])\n",
    "y = df_numeric['weighted_score']\n",
    "X.shape, y.shape"
   ]
  },
  {
   "cell_type": "code",
   "execution_count": 32,
   "id": "a5fd5715-6d0f-454d-adfc-a190f916d8b4",
   "metadata": {},
   "outputs": [
    {
     "data": {
      "text/plain": [
       "Index(['Year', 'GDP', 'HDI', 'LE', 'EYS', 'MYS', 'GNIPC', 'MMR', 'PHDI',\n",
       "       'CO2_PROD', 'BMI_underweight', 'BMI_obesity', 'BMI_morbid_obesity',\n",
       "       'Mean_Height', 'Diabetes_in_18+', 'Diabetes_treated_in_30+',\n",
       "       'non-HDL_cholesterol', 'HDL_cholesterol', 'Raised_blood_pressure',\n",
       "       'Hypertension', 'cluster'],\n",
       "      dtype='object')"
      ]
     },
     "execution_count": 32,
     "metadata": {},
     "output_type": "execute_result"
    }
   ],
   "source": [
    "# X.describe(), y.describe()\n",
    "X.columns"
   ]
  },
  {
   "cell_type": "markdown",
   "id": "5500613c-fc19-4987-be5a-0f5135b3e3c8",
   "metadata": {},
   "source": [
    "# Robust Scaling "
   ]
  },
  {
   "cell_type": "code",
   "execution_count": 26,
   "id": "645cba0d-14ff-41fc-8f7c-be5171d28da0",
   "metadata": {},
   "outputs": [],
   "source": [
    "scaler = RobustScaler() \n",
    "X_scaled = scaler.fit_transform(X) "
   ]
  },
  {
   "cell_type": "code",
   "execution_count": 10,
   "id": "da35204c-03d3-4a2a-b0e7-02f273361334",
   "metadata": {},
   "outputs": [],
   "source": [
    "# X_train, X_test, y_train, y_test = train_test_split(X, y, test_size = 0.2, random_state = 42)\n",
    "# X_train.shape, X_test.shape"
   ]
  },
  {
   "cell_type": "code",
   "execution_count": 28,
   "id": "d6d47c53-1013-46d9-93d4-128f1fc4fbe0",
   "metadata": {},
   "outputs": [
    {
     "name": "stdout",
     "output_type": "stream",
     "text": [
      "[[-1.00000000e+00 -3.64725472e-01 -2.37522506e+00 ...  4.19657670e-01\n",
      "  -2.24362220e-01  1.00000000e+00]\n",
      " [-3.33333333e-01 -3.70425624e-01 -2.21822110e+00 ...  5.62760619e-01\n",
      "  -1.39792970e-01  1.00000000e+00]\n",
      " [ 3.33333333e-01 -3.68149876e-01 -1.92725963e+00 ...  6.49744544e-01\n",
      "  -4.55125166e-02  1.00000000e+00]\n",
      " ...\n",
      " [-3.33333333e-01  2.17711762e-01 -1.85523947e+00 ...  5.13686760e-01\n",
      "   3.41414169e-01  1.00000000e+00]\n",
      " [ 3.33333333e-01  3.40567222e-02 -1.85379906e+00 ...  4.50389463e-01\n",
      "   5.06342502e-01  1.00000000e+00]\n",
      " [ 1.00000000e+00  9.64040627e-04 -1.60460929e+00 ...  3.84928104e-01\n",
      "   5.70079763e-01  1.00000000e+00]]\n",
      "-3.956611570247938\n",
      "59.22588817796017\n"
     ]
    }
   ],
   "source": [
    "print(X_scaled)\n",
    "print(X_scaled.min())\n",
    "print(X_scaled.max())"
   ]
  },
  {
   "cell_type": "code",
   "execution_count": 30,
   "id": "e64d4d9b-dcc1-4c47-a111-b2291f3a67a9",
   "metadata": {},
   "outputs": [
    {
     "data": {
      "text/plain": [
       "680"
      ]
     },
     "execution_count": 30,
     "metadata": {},
     "output_type": "execute_result"
    }
   ],
   "source": [
    "y.max()"
   ]
  },
  {
   "cell_type": "markdown",
   "id": "b97a8272-2aad-4fe9-9e69-e4b3264af4c8",
   "metadata": {},
   "source": [
    "## 1. K-fold cross validation\n",
    "## 2. Trained Random forest regressor\n",
    "## 3. Evaluated the metrics for both training and testing to check for the presence of overfitting"
   ]
  },
  {
   "cell_type": "code",
   "execution_count": 78,
   "id": "21af36bc-9351-4c34-aa77-ac29ffe01d34",
   "metadata": {},
   "outputs": [
    {
     "name": "stdout",
     "output_type": "stream",
     "text": [
      "Training Results\n",
      "Average RMSE: 22.305231675483885\n",
      "Average R2: 0.929461489095055\n",
      "-------------------------------\n",
      "Testing Results\n",
      "Average RMSE: 55.1427465706868\n",
      "Average R2: 0.5307756679433148\n"
     ]
    }
   ],
   "source": [
    "# K fold cross validation \n",
    "# Training Random forest regressor model \n",
    "# Evaluating both training and testing metrics (RMSE and R2)\n",
    "\n",
    "kf = KFold(n_splits = 5, shuffle = True, random_state = 42)\n",
    "rf = RandomForestRegressor(n_estimators = 100, random_state = 42) \n",
    "rmse_scores = []\n",
    "r2_scores = []\n",
    "rmse_train_scores = []\n",
    "r2_train_scores = []\n",
    "for train_index, test_index in kf.split(X_scaled):\n",
    "    X_train, X_test = X_scaled[train_index], X_scaled[test_index]\n",
    "    y_train, y_test = y.iloc[train_index], y.iloc[test_index]\n",
    "\n",
    "    rf.fit(X_train, y_train)\n",
    " \n",
    "    y_pred = rf.predict(X_test)\n",
    "\n",
    "    train_pred = rf.predict(X_train)\n",
    "    \n",
    "    rmse = np.sqrt(mean_squared_error(y_test, y_pred))  \n",
    "    r2 = r2_score(y_test, y_pred)\n",
    "\n",
    "    rmse_train = np.sqrt(mean_squared_error(y_train, train_pred))\n",
    "    r2_train = r2_score(y_train, train_pred)\n",
    "\n",
    "    rmse_train_scores.append(rmse_train)\n",
    "    r2_train_scores.append(r2_train)\n",
    "    \n",
    "    rmse_scores.append(rmse)\n",
    "    r2_scores.append(r2)\n",
    "\n",
    "\n",
    "print(\"Training Results\")\n",
    "print(f\"Average RMSE: {np.mean(rmse_train_scores)}\")\n",
    "print(f\"Average R2: {np.mean(r2_train_scores)}\")\n",
    "print('-------------------------------')\n",
    "print(\"Testing Results\")\n",
    "print(f\"Average RMSE: {np.mean(rmse_scores)}\")\n",
    "print(f\"Average R2: {np.mean(r2_scores)}\")"
   ]
  },
  {
   "cell_type": "markdown",
   "id": "d21d7ded-2c2c-49d3-8bcf-87c9c6f80491",
   "metadata": {},
   "source": [
    "## Without Scaling "
   ]
  },
  {
   "cell_type": "code",
   "execution_count": 46,
   "id": "fa87695d-3641-4d86-b3d5-0dd80618d2c7",
   "metadata": {},
   "outputs": [],
   "source": [
    "X1 = df_numeric.drop(columns = ['weighted_score','gold','silver','bronze','total','medal_sum']) \n",
    "y1 = df_numeric['weighted_score']"
   ]
  },
  {
   "cell_type": "code",
   "execution_count": 56,
   "id": "4285e837-38d7-4b27-9f20-7dbfa256d4ac",
   "metadata": {},
   "outputs": [
    {
     "name": "stdout",
     "output_type": "stream",
     "text": [
      "Training Results\n",
      "Average RMSE: 37.94308805669754\n",
      "Average R2: 0.796195550579089\n",
      "-------------------------------\n",
      "Testing Results\n",
      "Average RMSE: 58.41090479241058\n",
      "Average R2: 0.47668418275687463\n"
     ]
    }
   ],
   "source": [
    "# K fold cross validation \n",
    "# Training Random forest regressor model \n",
    "# Evaluating both training and testing metrics (RMSE and R2)\n",
    "\n",
    "kf = KFold(n_splits = 5, shuffle = True, random_state = 42)\n",
    "rf = RandomForestRegressor(n_estimators = 200, max_depth = 20, min_samples_split = 10, random_state = 42) \n",
    "rmse_scores = []\n",
    "r2_scores = []\n",
    "rmse_train_scores = []\n",
    "r2_train_scores = []\n",
    "for train_index, test_index in kf.split(X1):\n",
    "    X_train, X_test = X1.iloc[train_index], X1.iloc[test_index]\n",
    "    y_train, y_test = y1.iloc[train_index], y1.iloc[test_index]\n",
    "\n",
    "    rf.fit(X_train, y_train)\n",
    " \n",
    "    y_pred = rf.predict(X_test)\n",
    "\n",
    "    train_pred = rf.predict(X_train)\n",
    "    \n",
    "    rmse = np.sqrt(mean_squared_error(y_test, y_pred))  \n",
    "    r2 = r2_score(y_test, y_pred)\n",
    "\n",
    "    rmse_train = np.sqrt(mean_squared_error(y_train, train_pred))\n",
    "    r2_train = r2_score(y_train, train_pred)\n",
    "\n",
    "    rmse_train_scores.append(rmse_train)\n",
    "    r2_train_scores.append(r2_train)\n",
    "    \n",
    "    rmse_scores.append(rmse)\n",
    "    r2_scores.append(r2)\n",
    "\n",
    "\n",
    "print(\"Training Results\")\n",
    "print(f\"Average RMSE: {np.mean(rmse_train_scores)}\")\n",
    "print(f\"Average R2: {np.mean(r2_train_scores)}\")\n",
    "print('-------------------------------')\n",
    "print(\"Testing Results\")\n",
    "print(f\"Average RMSE: {np.mean(rmse_scores)}\")\n",
    "print(f\"Average R2: {np.mean(r2_scores)}\")"
   ]
  },
  {
   "cell_type": "code",
   "execution_count": null,
   "id": "834fbe71-d50b-49e2-b6c5-887b60b3d844",
   "metadata": {},
   "outputs": [],
   "source": []
  },
  {
   "cell_type": "code",
   "execution_count": null,
   "id": "5f1b5766-4647-4e4b-b463-fdde69385753",
   "metadata": {},
   "outputs": [],
   "source": []
  },
  {
   "cell_type": "code",
   "execution_count": null,
   "id": "de37341d-b7f9-442a-8723-807dc9a539ee",
   "metadata": {},
   "outputs": [],
   "source": []
  },
  {
   "cell_type": "code",
   "execution_count": 20,
   "id": "f4a9db3a-f8de-42a5-91ce-48d11b23e684",
   "metadata": {},
   "outputs": [
    {
     "data": {
      "text/plain": [
       "37.476190476190474"
      ]
     },
     "execution_count": 20,
     "metadata": {},
     "output_type": "execute_result"
    }
   ],
   "source": [
    "df_numeric['weighted_score'].mean()"
   ]
  },
  {
   "cell_type": "code",
   "execution_count": 21,
   "id": "08b67803-c8fc-4bb3-a91d-ab27bdb53fdc",
   "metadata": {},
   "outputs": [
    {
     "data": {
      "text/plain": [
       "84.37704845076048"
      ]
     },
     "execution_count": 21,
     "metadata": {},
     "output_type": "execute_result"
    }
   ],
   "source": [
    "df_numeric['weighted_score'].std()"
   ]
  },
  {
   "cell_type": "code",
   "execution_count": 22,
   "id": "72d95dc8-345d-4ce1-b7e5-ab6a80120919",
   "metadata": {},
   "outputs": [
    {
     "data": {
      "text/plain": [
       "680"
      ]
     },
     "execution_count": 22,
     "metadata": {},
     "output_type": "execute_result"
    }
   ],
   "source": [
    "df_numeric['weighted_score'].max()"
   ]
  },
  {
   "cell_type": "code",
   "execution_count": 23,
   "id": "36315b20-7126-49b3-aa93-a93a45de700a",
   "metadata": {},
   "outputs": [
    {
     "data": {
      "text/plain": [
       "0"
      ]
     },
     "execution_count": 23,
     "metadata": {},
     "output_type": "execute_result"
    }
   ],
   "source": [
    "df_numeric['weighted_score'].min()"
   ]
  },
  {
   "cell_type": "code",
   "execution_count": 24,
   "id": "2f3cd05b-3001-4af4-afd1-da23fd7afe60",
   "metadata": {},
   "outputs": [
    {
     "name": "stdout",
     "output_type": "stream",
     "text": [
      "Mean R2: 0.9847450217743674\n",
      "Mean RMSE: 9.464171104600657\n"
     ]
    }
   ],
   "source": [
    "# With K-fold cross validation\n",
    "X = pd.DataFrame(X)\n",
    "y = pd.Series(y)\n",
    "# print(y)\n",
    "rf_model = RandomForestRegressor(n_estimators = 100, random_state = 42) \n",
    "kf = KFold(n_splits = 10, shuffle = True, random_state = 42) \n",
    "\n",
    "def evaluate_model(X, y, model, kf):\n",
    "    r2_scores = []\n",
    "    rmse_scores = [] \n",
    "\n",
    "    for train_index, test_index in kf.split(X):\n",
    "        # print(f\"Train indices: {train_index[:5]}...\")  \n",
    "        # print(f\"Test indices: {test_index[:5]}...\")\n",
    "\n",
    "        X_train, X_test = X.iloc[train_index], X.iloc[test_index]\n",
    "        y_train, y_test = y.iloc[train_index], y.iloc[test_index]\n",
    "\n",
    "        # print(f\"X_train shape: {X_train.shape}, y_train shape: {y_train.shape}\")\n",
    "        # print(f\"X_test shape: {X_test.shape}, y_test shape: {y_test.shape}\")\n",
    "\n",
    "\n",
    "        model.fit(X_train, y_train)\n",
    "        y_pred = model.predict(X_test)\n",
    "\n",
    "        r2 = r2_score(y_test, y_pred) \n",
    "        rmse = np.sqrt(mean_squared_error(y_test, y_pred))\n",
    "\n",
    "        r2_scores.append(r2)\n",
    "        rmse_scores.append(rmse)\n",
    "\n",
    "    return np.mean(r2_scores), np.mean(rmse_scores)\n",
    "\n",
    "\n",
    "mean_r2, mean_rmse = evaluate_model(X, y, rf_model, kf)\n",
    "\n",
    "print(f\"Mean R2: {mean_r2}\")\n",
    "print(f\"Mean RMSE: {mean_rmse}\")"
   ]
  },
  {
   "cell_type": "code",
   "execution_count": 25,
   "id": "a721319f-0eac-4c6f-aa66-59ca412d3225",
   "metadata": {},
   "outputs": [
    {
     "name": "stdout",
     "output_type": "stream",
     "text": [
      "Min: 0\n",
      "Max: 680\n",
      "Mean value of y: 37.476190476190474\n",
      "Standard deviation of y: 84.37704845076048\n"
     ]
    }
   ],
   "source": [
    "# print(X.shape)\n",
    "# print(y.shape)\n",
    "\n",
    "\n",
    "print(f\"Min: {y.min()}\")\n",
    "print(f\"Max: {y.max()}\")\n",
    "print(f\"Mean value of y: {y.mean()}\")\n",
    "print(f\"Standard deviation of y: {y.std()}\")\n"
   ]
  },
  {
   "cell_type": "code",
   "execution_count": null,
   "id": "ae92b233-d671-4144-8105-cf953b1492f9",
   "metadata": {},
   "outputs": [],
   "source": []
  },
  {
   "cell_type": "code",
   "execution_count": null,
   "id": "a04fa111-b0ec-4857-9b34-967b5bff2b5e",
   "metadata": {},
   "outputs": [],
   "source": []
  },
  {
   "cell_type": "code",
   "execution_count": null,
   "id": "d112ad3c-915b-4a35-9067-c8bc08a0a809",
   "metadata": {},
   "outputs": [],
   "source": []
  }
 ],
 "metadata": {
  "kernelspec": {
   "display_name": "Python 3 (ipykernel)",
   "language": "python",
   "name": "python3"
  },
  "language_info": {
   "codemirror_mode": {
    "name": "ipython",
    "version": 3
   },
   "file_extension": ".py",
   "mimetype": "text/x-python",
   "name": "python",
   "nbconvert_exporter": "python",
   "pygments_lexer": "ipython3",
   "version": "3.11.8"
  }
 },
 "nbformat": 4,
 "nbformat_minor": 5
}
